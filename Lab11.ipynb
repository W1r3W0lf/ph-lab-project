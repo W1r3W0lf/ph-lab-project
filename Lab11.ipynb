{
 "cells": [
  {
   "cell_type": "markdown",
   "id": "6b61f94b",
   "metadata": {},
   "source": [
    "### Physics 150\n",
    "\n",
    "# Lab 11 Merge Sort Algorithm Lab\n",
    "\n",
    "Name: Michael Jury and Alex Vasiuk\n",
    "    \n",
    "\n",
    "## Introduction\n",
    "\n",
    "\n",
    "\n",
    "<img src=\"https://raw.githubusercontent.com/W1r3W0lf/ph-lab-project/master/Merge-Sort-Tutorial.png\" alt=\"algoritm\" width=\"450px\"/>\n",
    "\n",
    "\n",
    "\n",
    "In this lab we have investigated how using thread helps to perform tasks faster on CPU. We have created a big array of sudo-random integers that will be processed by the computer CPU. We made an experiment that will compare how processing time will change based on the amount of thread used to sort the array.\n",
    "\n",
    "For this project we will use Merge Sort Algorithm. The algorithm will break integer array in smaller chunks, one for each used thread. Inside each thread the CPU will sort sub-array and when done will merge those sub-arrays back together.  \n",
    "\n"
   ]
  },
  {
   "cell_type": "code",
   "execution_count": 2,
   "id": "9781f5d4",
   "metadata": {},
   "outputs": [
    {
     "name": "stdout",
     "output_type": "stream",
     "text": [
      "Measured values for Thread Sorting\n"
     ]
    },
    {
     "data": {
      "text/html": [
       "<div>\n",
       "<style scoped>\n",
       "    .dataframe tbody tr th:only-of-type {\n",
       "        vertical-align: middle;\n",
       "    }\n",
       "\n",
       "    .dataframe tbody tr th {\n",
       "        vertical-align: top;\n",
       "    }\n",
       "\n",
       "    .dataframe thead th {\n",
       "        text-align: right;\n",
       "    }\n",
       "</style>\n",
       "<table border=\"1\" class=\"dataframe\">\n",
       "  <thead>\n",
       "    <tr style=\"text-align: right;\">\n",
       "      <th></th>\n",
       "      <th>Real Time (sec)</th>\n",
       "      <th>User Time (sec)</th>\n",
       "      <th># Threads</th>\n",
       "    </tr>\n",
       "  </thead>\n",
       "  <tbody>\n",
       "    <tr>\n",
       "      <th>0</th>\n",
       "      <td>454.004</td>\n",
       "      <td>452.457</td>\n",
       "      <td>1</td>\n",
       "    </tr>\n",
       "    <tr>\n",
       "      <th>1</th>\n",
       "      <td>114.271</td>\n",
       "      <td>227.655</td>\n",
       "      <td>2</td>\n",
       "    </tr>\n",
       "    <tr>\n",
       "      <th>2</th>\n",
       "      <td>52.215</td>\n",
       "      <td>155.695</td>\n",
       "      <td>3</td>\n",
       "    </tr>\n",
       "    <tr>\n",
       "      <th>3</th>\n",
       "      <td>32.156</td>\n",
       "      <td>126.225</td>\n",
       "      <td>4</td>\n",
       "    </tr>\n",
       "    <tr>\n",
       "      <th>4</th>\n",
       "      <td>27.619</td>\n",
       "      <td>116.782</td>\n",
       "      <td>5</td>\n",
       "    </tr>\n",
       "    <tr>\n",
       "      <th>5</th>\n",
       "      <td>20.608</td>\n",
       "      <td>110.127</td>\n",
       "      <td>6</td>\n",
       "    </tr>\n",
       "    <tr>\n",
       "      <th>6</th>\n",
       "      <td>15.979</td>\n",
       "      <td>105.007</td>\n",
       "      <td>7</td>\n",
       "    </tr>\n",
       "    <tr>\n",
       "      <th>7</th>\n",
       "      <td>13.996</td>\n",
       "      <td>103.428</td>\n",
       "      <td>8</td>\n",
       "    </tr>\n",
       "    <tr>\n",
       "      <th>8</th>\n",
       "      <td>12.031</td>\n",
       "      <td>89.736</td>\n",
       "      <td>9</td>\n",
       "    </tr>\n",
       "    <tr>\n",
       "      <th>9</th>\n",
       "      <td>10.655</td>\n",
       "      <td>79.327</td>\n",
       "      <td>10</td>\n",
       "    </tr>\n",
       "    <tr>\n",
       "      <th>10</th>\n",
       "      <td>9.825</td>\n",
       "      <td>73.572</td>\n",
       "      <td>11</td>\n",
       "    </tr>\n",
       "    <tr>\n",
       "      <th>11</th>\n",
       "      <td>9.208</td>\n",
       "      <td>65.148</td>\n",
       "      <td>12</td>\n",
       "    </tr>\n",
       "    <tr>\n",
       "      <th>12</th>\n",
       "      <td>8.017</td>\n",
       "      <td>60.234</td>\n",
       "      <td>13</td>\n",
       "    </tr>\n",
       "    <tr>\n",
       "      <th>13</th>\n",
       "      <td>7.997</td>\n",
       "      <td>55.936</td>\n",
       "      <td>14</td>\n",
       "    </tr>\n",
       "    <tr>\n",
       "      <th>14</th>\n",
       "      <td>7.401</td>\n",
       "      <td>51.995</td>\n",
       "      <td>15</td>\n",
       "    </tr>\n",
       "    <tr>\n",
       "      <th>15</th>\n",
       "      <td>6.508</td>\n",
       "      <td>48.784</td>\n",
       "      <td>16</td>\n",
       "    </tr>\n",
       "    <tr>\n",
       "      <th>16</th>\n",
       "      <td>6.201</td>\n",
       "      <td>45.741</td>\n",
       "      <td>17</td>\n",
       "    </tr>\n",
       "    <tr>\n",
       "      <th>17</th>\n",
       "      <td>5.726</td>\n",
       "      <td>43.136</td>\n",
       "      <td>18</td>\n",
       "    </tr>\n",
       "    <tr>\n",
       "      <th>18</th>\n",
       "      <td>5.372</td>\n",
       "      <td>40.813</td>\n",
       "      <td>19</td>\n",
       "    </tr>\n",
       "    <tr>\n",
       "      <th>19</th>\n",
       "      <td>5.136</td>\n",
       "      <td>38.842</td>\n",
       "      <td>20</td>\n",
       "    </tr>\n",
       "    <tr>\n",
       "      <th>20</th>\n",
       "      <td>5.109</td>\n",
       "      <td>36.933</td>\n",
       "      <td>21</td>\n",
       "    </tr>\n",
       "    <tr>\n",
       "      <th>21</th>\n",
       "      <td>4.624</td>\n",
       "      <td>35.207</td>\n",
       "      <td>22</td>\n",
       "    </tr>\n",
       "    <tr>\n",
       "      <th>22</th>\n",
       "      <td>4.489</td>\n",
       "      <td>33.695</td>\n",
       "      <td>23</td>\n",
       "    </tr>\n",
       "    <tr>\n",
       "      <th>23</th>\n",
       "      <td>4.263</td>\n",
       "      <td>32.339</td>\n",
       "      <td>24</td>\n",
       "    </tr>\n",
       "    <tr>\n",
       "      <th>24</th>\n",
       "      <td>4.346</td>\n",
       "      <td>30.948</td>\n",
       "      <td>25</td>\n",
       "    </tr>\n",
       "  </tbody>\n",
       "</table>\n",
       "</div>"
      ],
      "text/plain": [
       "    Real Time (sec)  User Time (sec)  # Threads\n",
       "0           454.004          452.457          1\n",
       "1           114.271          227.655          2\n",
       "2            52.215          155.695          3\n",
       "3            32.156          126.225          4\n",
       "4            27.619          116.782          5\n",
       "5            20.608          110.127          6\n",
       "6            15.979          105.007          7\n",
       "7            13.996          103.428          8\n",
       "8            12.031           89.736          9\n",
       "9            10.655           79.327         10\n",
       "10            9.825           73.572         11\n",
       "11            9.208           65.148         12\n",
       "12            8.017           60.234         13\n",
       "13            7.997           55.936         14\n",
       "14            7.401           51.995         15\n",
       "15            6.508           48.784         16\n",
       "16            6.201           45.741         17\n",
       "17            5.726           43.136         18\n",
       "18            5.372           40.813         19\n",
       "19            5.136           38.842         20\n",
       "20            5.109           36.933         21\n",
       "21            4.624           35.207         22\n",
       "22            4.489           33.695         23\n",
       "23            4.263           32.339         24\n",
       "24            4.346           30.948         25"
      ]
     },
     "execution_count": 2,
     "metadata": {},
     "output_type": "execute_result"
    }
   ],
   "source": [
    "import pandas as pd\n",
    "from numpy import array, sqrt, linspace\n",
    "\n",
    "# get array values\n",
    "real_time = [7*60+34.004, 60+54.271, 52.215, 32.156, 27.619, 20.608, 15.979, 13.996, 12.031, 10.655, 9.825, 9.208, 8.017, 7.997, 7.401, 6.508, 6.201, 5.726, 5.372, 5.136, 5.109, 4.624, 4.489, 4.263, 4.346]\n",
    "user_time = [7*60+32.457, 3*60+47.655, 2*60+35.695, 2*60 + 6.225, 60+56.782, 60+50.127, 60+45.007, 60+43.428, 60+ 29.736, 60+19.327, 60+13.572, 60+5.148, 60+0.234, 55.936, 51.995, 48.784, 45.741, 43.136, 40.813,38.842, 36.933, 35.207, 33.695, 32.339, 30.948]\n",
    "threads = [1, 2, 3, 4, 5, 6, 7, 8, 9, 10, 11, 12, 13, 14, 15, 16, 17, 18, 19, 20, 21, 22, 23, 24, 25]\n",
    "\n",
    "\n",
    "print('Measured values for Thread Sorting')\n",
    "data = {'Real Time (sec)': real_time, 'User Time (sec)': user_time, '# Threads': threads}\n",
    "inertia_data = pd.DataFrame(data)\n",
    "inertia_data.round(3)"
   ]
  },
  {
   "cell_type": "code",
   "execution_count": 3,
   "id": "0bd9fde4",
   "metadata": {},
   "outputs": [
    {
     "data": {
      "image/png": "[encoded data removed]",
      "text/plain": [
       "<Figure size 432x288 with 1 Axes>"
      ]
     },
     "metadata": {
      "needs_background": "light"
     },
     "output_type": "display_data"
    }
   ],
   "source": [
    "import matplotlib.pyplot as plt\n",
    "\n",
    "plt.title(\"Sorting 1M integers with merge sort\")\n",
    "\n",
    "plt.plot(threads, real_time, \"b\", label='real time')\n",
    "plt.plot(threads, user_time, \"r\", label='system time')\n",
    "\n",
    "plt.xlabel(\"Threads\")\n",
    "plt.ylabel(\"Seconds\")\n",
    "\n",
    "plt.legend()\n",
    "\n",
    "plt.show()"
   ]
  },
  {
   "cell_type": "code",
   "execution_count": 25,
   "id": "189b71f3",
   "metadata": {},
   "outputs": [
    {
     "name": "stdout",
     "output_type": "stream",
     "text": [
      "0.007570043299450496 0.007419943096517337 0.002244994432064365\n",
      "0.0016749792701868163 0.005214163403653557 0.002244994432064365\n",
      "0.0010408329997330672 0.00456663625294009 0.0034985711369071803\n"
     ]
    }
   ],
   "source": [
    "from numpy import std\n",
    "\n",
    "real_time_50000_1 = [0.929, 0.930, 0.929, 0.931, .927, .944, .920, .926, .914, .916, .932, .928]\n",
    "user_time_50000_1 = [0.924, 0.922, 0.922, 0.930, .922, .944, .920, .926, .913, .916, .921, .924]\n",
    "\n",
    "real_time_50000_2 = [0.258, 0.256, 0.258, 0.255, 0.254, .257, .257, .257, .256, .252, .257, .257]\n",
    "user_time_50000_2 = [0.509, 0.503, 0.511, 0.501, 0.495, .505, .505, .502, .504, .491, .505, .502]\n",
    "\n",
    "real_time_50000_3 = [0.127, 0.127, 0.125, 0.125, 0.125, .125, .126, .125, .126, .123, .126, .126]\n",
    "user_time_50000_3 = [0.368, 0.366, 0.359, 0.364, 0.353, .361, .364, .362, .364, .354, .366, .366]\n",
    " \n",
    "# mean values\n",
    "real_time_1_std = std(real_time_50000_1)\n",
    "user_time_1_std = std(user_time_50000_1)\n",
    "sys_time_1_std = std(sys_time_50000_1)\n",
    "\n",
    "real_time_2_std = std(real_time_50000_2)\n",
    "user_time_2_std = std(user_time_50000_2)\n",
    "sys_time_2_std = std(sys_time_50000_2)\n",
    "\n",
    "real_time_3_std = std(real_time_50000_3)\n",
    "user_time_3_std = std(user_time_50000_3)\n",
    "sys_time_3_std = std(sys_time_50000_3)\n",
    "\n",
    "print(real_time_1_std, user_time_1_std, sys_time_1_std)\n",
    "print(real_time_2_std, user_time_2_std, sys_time_2_std)\n",
    "print(real_time_3_std, user_time_3_std, sys_time_3_std)\n",
    "\n"
   ]
  },
  {
   "cell_type": "code",
   "execution_count": 21,
   "id": "2371c617",
   "metadata": {},
   "outputs": [
    {
     "data": {
      "image/png": "[encoded data removed]",
      "text/plain": [
       "<Figure size 432x288 with 1 Axes>"
      ]
     },
     "metadata": {
      "needs_background": "light"
     },
     "output_type": "display_data"
    }
   ],
   "source": [
    "plt.hist(real_time_50000_1,bins = 10,density = True)\n",
    "plt.hist(user_time_50000_1,bins = 10,density = True, color = 'r')\n",
    "plt.title(\"Histogram of 1 Thread Time\")\n",
    "plt.xlabel('Time (s)')\n",
    "plt.ylabel('Standard Deviation')\n",
    "plt.show()"
   ]
  },
  {
   "cell_type": "code",
   "execution_count": 27,
   "id": "70410fd1",
   "metadata": {},
   "outputs": [
    {
     "data": {
      "image/png": "[encoded data removed]",
      "text/plain": [
       "<Figure size 432x288 with 1 Axes>"
      ]
     },
     "metadata": {
      "needs_background": "light"
     },
     "output_type": "display_data"
    },
    {
     "data": {
      "image/png": "[encoded data removed]",
      "text/plain": [
       "<Figure size 432x288 with 1 Axes>"
      ]
     },
     "metadata": {
      "needs_background": "light"
     },
     "output_type": "display_data"
    }
   ],
   "source": [
    "plt.hist(real_time_50000_2,bins = 10,density = True)\n",
    "plt.title(\"Histogram of 2 Thread Time for Real Time\")\n",
    "plt.xlabel('Time (s)')\n",
    "plt.ylabel('Standard Deviation')\n",
    "plt.show()\n",
    "\n",
    "plt.hist(user_time_50000_2,bins = 10,density = True, color = 'r')\n",
    "plt.title(\"Histogram of 2 Thread Time for User Time\")\n",
    "plt.xlabel('Time (s)')\n",
    "plt.ylabel('Standard Deviation')\n",
    "plt.show()"
   ]
  },
  {
   "cell_type": "code",
   "execution_count": 28,
   "id": "dfc20ddb",
   "metadata": {},
   "outputs": [
    {
     "data": {
      "image/png": "[encoded data removed]",
      "text/plain": [
       "<Figure size 432x288 with 1 Axes>"
      ]
     },
     "metadata": {
      "needs_background": "light"
     },
     "output_type": "display_data"
    },
    {
     "data": {
      "image/png": "[encoded data removed]",
      "text/plain": [
       "<Figure size 432x288 with 1 Axes>"
      ]
     },
     "metadata": {
      "needs_background": "light"
     },
     "output_type": "display_data"
    }
   ],
   "source": [
    "plt.hist(real_time_50000_3,bins = 10,density = True)\n",
    "plt.title(\"Histogram of 3 Thread Time for Real Time\")\n",
    "plt.xlabel('Time (s)')\n",
    "plt.ylabel('Standard Deviation')\n",
    "plt.show()\n",
    "\n",
    "plt.hist(user_time_50000_3,bins = 10,density = True, color = 'r')\n",
    "plt.title(\"Histogram of 3 Thread Time for User Time\")\n",
    "plt.xlabel('Time (s)')\n",
    "plt.ylabel('Standard Deviation')\n",
    "plt.show()"
   ]
  },
  {
   "cell_type": "code",
   "execution_count": null,
   "id": "6957b17e",
   "metadata": {},
   "outputs": [],
   "source": []
  }
 ],
 "metadata": {
  "kernelspec": {
   "display_name": "Python 3",
   "language": "python",
   "name": "python3"
  },
  "language_info": {
   "codemirror_mode": {
    "name": "ipython",
    "version": 3
   },
   "file_extension": ".py",
   "mimetype": "text/x-python",
   "name": "python",
   "nbconvert_exporter": "python",
   "pygments_lexer": "ipython3",
   "version": "3.8.8"
  }
 },
 "nbformat": 4,
 "nbformat_minor": 5
}
