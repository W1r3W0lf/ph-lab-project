{
 "cells": [
  {
   "cell_type": "markdown",
   "id": "62ff759a",
   "metadata": {},
   "source": [
    "### Physics 150\n",
    "\n",
    "# Lab 11 Merge Sort Algorithm Lab\n",
    "\n",
    "Name: Michael Jury and Alex Vasiuk\n",
    "    \n",
    "\n",
    "## Introduction\n",
    "\n",
    "\n",
    "\n",
    "<img src=\"https://raw.githubusercontent.com/W1r3W0lf/ph-lab-project/master/Merge-Sort-Tutorial.png\" alt=\"drawing\" width=\"450px\"/>\n",
    "\n",
    "\n",
    "\n",
    "In this lab we have investigated how using thread helps to perform tasks faster on CPU. We have created a big array of sudo-random integers that will be processed by the computer CPU. We made an experiment that will compare how processing time will change based on the \n",
    "\n"
   ]
  }
 ],
 "metadata": {
  "kernelspec": {
   "display_name": "Python 3",
   "language": "python",
   "name": "python3"
  },
  "language_info": {
   "codemirror_mode": {
    "name": "ipython",
    "version": 3
   },
   "file_extension": ".py",
   "mimetype": "text/x-python",
   "name": "python",
   "nbconvert_exporter": "python",
   "pygments_lexer": "ipython3",
   "version": "3.8.8"
  }
 },
 "nbformat": 4,
 "nbformat_minor": 5
}
